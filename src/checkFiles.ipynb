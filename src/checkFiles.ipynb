{
 "cells": [
  {
   "cell_type": "markdown",
   "metadata": {},
   "source": [
    "Ce fichier permet de déterminer si le bon nombre de fichiers ont été exportés en comparant les chromatogrammes et les fichier de molécules"
   ]
  },
  {
   "cell_type": "code",
   "execution_count": 20,
   "metadata": {},
   "outputs": [],
   "source": [
    "from os import listdir\r\n",
    "PATH = '../data/chromatograms/'\r\n",
    "chromExt = '-CHROMATOGRAM.CSV'\r\n",
    "molExt = '-MS.csv'"
   ]
  },
  {
   "cell_type": "code",
   "execution_count": 21,
   "metadata": {},
   "outputs": [],
   "source": [
    "chromatograms = [f for f in listdir(PATH) if f.endswith(chromExt) or f.endswith(chromExt.lower())]\r\n",
    "molecules = [f for f in listdir(PATH) if f.endswith(molExt)]"
   ]
  },
  {
   "cell_type": "code",
   "execution_count": 22,
   "metadata": {},
   "outputs": [
    {
     "name": "stdout",
     "output_type": "stream",
     "text": [
      "Chromatograms : \n",
      "gallahm-20201215  n'a pas de correspondant\n",
      "GauvainPeA-20200810  n'a pas de correspondant\n",
      "HouseA-ver-2020306  n'a pas de correspondant\n",
      "IglefA-20200615  n'a pas de correspondant\n",
      "kanye20200619  n'a pas de correspondant\n",
      "LaurencyA-20200420  n'a pas de correspondant\n",
      "LaurencyA2-20200420  n'a pas de correspondant\n",
      "LiegeySylL-20200804  n'a pas de correspondant\n",
      "Test1-20210625  n'a pas de correspondant\n",
      "Test2-20211012  n'a pas de correspondant\n",
      "Test3-20210602  n'a pas de correspondant\n",
      "Molecules : \n",
      "BazzucchiE-20200302  n'a pas de correspondant\n",
      "BeauquelL-20200630  n'a pas de correspondant\n",
      "GallahM-20201215  n'a pas de correspondant\n",
      "KaczorC-20201112  n'a pas de correspondant\n",
      "KanyE20200619  n'a pas de correspondant\n",
      "Kilicars.L-20201224  n'a pas de correspondant\n",
      "KrasnicM-20210219  n'a pas de correspondant\n",
      "LachauxA-20200109  n'a pas de correspondant\n"
     ]
    }
   ],
   "source": [
    "print('Chromatograms : ')\r\n",
    "for chrom in chromatograms:\r\n",
    "    if chrom[:-17] + molExt not in molecules:\r\n",
    "        print(chrom[:-17], \" n'a pas de correspondant\")\r\n",
    "\r\n",
    "print('Molecules : ')\r\n",
    "for mol in molecules:\r\n",
    "    if mol[:-7] + chromExt not in chromatograms and mol[:-7] + chromExt.lower() not in chromatograms:\r\n",
    "        print(mol[:-7], \" n'a pas de correspondant\")"
   ]
  }
 ],
 "metadata": {
  "interpreter": {
   "hash": "8c4dcd3a071dd88a141e61cb3846a3ad57c7a576061c6011e309b7dc0280f508"
  },
  "kernelspec": {
   "display_name": "Python 3.9.5 64-bit ('GCMS': conda)",
   "name": "python3"
  },
  "language_info": {
   "codemirror_mode": {
    "name": "ipython",
    "version": 3
   },
   "file_extension": ".py",
   "mimetype": "text/x-python",
   "name": "python",
   "nbconvert_exporter": "python",
   "pygments_lexer": "ipython3",
   "version": "3.9.5"
  },
  "orig_nbformat": 4
 },
 "nbformat": 4,
 "nbformat_minor": 2
}