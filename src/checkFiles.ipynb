{
 "cells": [
  {
   "cell_type": "markdown",
   "metadata": {},
   "source": [
    "Ce fichier permet de déterminer si le bon nombre de fichiers ont été exportés en comparant les chromatogrammes et les fichier de molécules"
   ]
  },
  {
   "cell_type": "code",
   "execution_count": 1,
   "metadata": {},
   "outputs": [],
   "source": [
    "from os import listdir\n",
    "import tools\n",
    "PATH = '../data/all-data/'"
   ]
  },
  {
   "cell_type": "code",
   "execution_count": 2,
   "metadata": {},
   "outputs": [],
   "source": [
    "chromatograms = [f for f in listdir(PATH) if f.endswith(tools.CHROM_EXT)]\n",
    "molecules = [f for f in listdir(PATH) if f.endswith(tools.MOL_EXT)]"
   ]
  },
  {
   "cell_type": "code",
   "execution_count": 3,
   "metadata": {},
   "outputs": [
    {
     "name": "stdout",
     "output_type": "stream",
     "text": [
      "Chromatograms : \n",
      "Molecules : \n"
     ]
    }
   ],
   "source": [
    "print('Chromatograms : ')\n",
    "for chrom in chromatograms:\n",
    "    if chrom[:-17] + tools.MOL_EXT not in molecules:\n",
    "        print(chrom[:-17], \" n'a pas de correspondant\")\n",
    "\n",
    "print('Molecules : ')\n",
    "for mol in molecules:\n",
    "    if mol[:-7] + tools.CHROM_EXT not in chromatograms and mol[:-7] + tools.MOL_EXT.lower() not in chromatograms:\n",
    "        print(mol[:-7], \" n'a pas de correspondant\")"
   ]
  }
 ],
 "metadata": {
  "interpreter": {
   "hash": "8c4dcd3a071dd88a141e61cb3846a3ad57c7a576061c6011e309b7dc0280f508"
  },
  "kernelspec": {
   "display_name": "Python 3.9.5 64-bit ('GCMS': conda)",
   "name": "python3"
  },
  "language_info": {
   "codemirror_mode": {
    "name": "ipython",
    "version": 3
   },
   "file_extension": ".py",
   "mimetype": "text/x-python",
   "name": "python",
   "nbconvert_exporter": "python",
   "pygments_lexer": "ipython3",
   "version": "3.9.5"
  },
  "orig_nbformat": 4
 },
 "nbformat": 4,
 "nbformat_minor": 2
}
