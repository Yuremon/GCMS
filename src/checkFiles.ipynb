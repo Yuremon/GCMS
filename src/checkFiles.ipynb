{
 "cells": [
  {
   "cell_type": "markdown",
   "metadata": {},
   "source": [
    "Ce fichier permet de déterminer si le bon nombre de fichiers ont été exportés en comparant les chromatogrammes et les fichier de molécules"
   ]
  },
  {
   "cell_type": "code",
   "execution_count": 1,
   "metadata": {},
   "outputs": [],
   "source": [
    "from os import listdir\r\n",
    "import tools\r\n",
    "PATH = '../data/data-IA/'"
   ]
  },
  {
   "cell_type": "code",
   "execution_count": 2,
   "metadata": {},
   "outputs": [],
   "source": [
    "chromatograms = [f for f in listdir(PATH) if f.endswith(tools.CHROM_EXT)]\r\n",
    "molecules = [f for f in listdir(PATH) if f.endswith(tools.MOL_EXT)]"
   ]
  },
  {
   "cell_type": "code",
   "execution_count": 3,
   "metadata": {},
   "outputs": [
    {
     "name": "stdout",
     "output_type": "stream",
     "text": [
      "Chromatograms : \n",
      "battaglian-20190123001  n'a pas de correspondant\n",
      "Molecules : \n",
      "aliaja-20191105  n'a pas de correspondant\n",
      "huguenina-20190729rc  n'a pas de correspondant\n",
      "mailleferm-20190806cor  n'a pas de correspondant\n"
     ]
    }
   ],
   "source": [
    "print('Chromatograms : ')\r\n",
    "for chrom in chromatograms:\r\n",
    "    if chrom[:-17] + tools.MOL_EXT not in molecules:\r\n",
    "        print(chrom[:-17], \" n'a pas de correspondant\")\r\n",
    "\r\n",
    "print('Molecules : ')\r\n",
    "for mol in molecules:\r\n",
    "    if mol[:-7] + tools.CHROM_EXT not in chromatograms and mol[:-7] + tools.MOL_EXT.lower() not in chromatograms:\r\n",
    "        print(mol[:-7], \" n'a pas de correspondant\")"
   ]
  }
 ],
 "metadata": {
  "interpreter": {
   "hash": "8c4dcd3a071dd88a141e61cb3846a3ad57c7a576061c6011e309b7dc0280f508"
  },
  "kernelspec": {
   "display_name": "Python 3.9.5 64-bit ('GCMS': conda)",
   "name": "python3"
  },
  "language_info": {
   "codemirror_mode": {
    "name": "ipython",
    "version": 3
   },
   "file_extension": ".py",
   "mimetype": "text/x-python",
   "name": "python",
   "nbconvert_exporter": "python",
   "pygments_lexer": "ipython3",
   "version": "3.9.5"
  },
  "orig_nbformat": 4
 },
 "nbformat": 4,
 "nbformat_minor": 2
}