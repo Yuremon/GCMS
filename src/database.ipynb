{
 "cells": [
  {
   "cell_type": "markdown",
   "source": [
    "# Lecture de la base de donnée\r\n",
    "\r\n",
    "La base de donnée sera lue à partir d'un fichier csv correspondant en terme de structure à [example.csv](example.csv). <br>\r\n",
    "Ce fichier contient quatres colonnes : fichier csv contenant le chromatograme, etat normal(1) ou non(0), label : description, le numéro de la catégorie entre 0 et 5."
   ],
   "metadata": {}
  },
  {
   "cell_type": "markdown",
   "source": [
    "Comme dans [readData.ipynb](readData.ipynb), on importe les modules utiles."
   ],
   "metadata": {}
  },
  {
   "cell_type": "code",
   "execution_count": 1,
   "source": [
    "import pandas as pd\r\n",
    "import tools\r\n",
    "from importlib import reload\r\n",
    "reload(tools)\r\n",
    "\r\n",
    "pd.options.plotting.backend = \"plotly\""
   ],
   "outputs": [],
   "metadata": {}
  },
  {
   "cell_type": "markdown",
   "source": [
    "On spécifie le chemin du fichier dans lequel est stocké la base de donnée dans la variable `FILE`, et le chemin jusqu'aux chromatogrammes mentionnés dans la base de donnée dans la variable : `PATH`. <br>"
   ],
   "metadata": {}
  },
  {
   "cell_type": "code",
   "execution_count": 15,
   "source": [
    "FILE = \"../data/data_final/database.csv\"\r\n",
    "PATH = \"../data/data_final/\""
   ],
   "outputs": [],
   "metadata": {}
  },
  {
   "cell_type": "markdown",
   "source": [
    "On met les informations de la base de donnée dans un DataFrame (`db`) qui permet d'avoir accès aux données de façon structurée."
   ],
   "metadata": {}
  },
  {
   "cell_type": "code",
   "execution_count": 24,
   "source": [
    "db = pd.read_csv(FILE)\r\n",
    "db.head()"
   ],
   "outputs": [
    {
     "output_type": "execute_result",
     "data": {
      "text/plain": [
       "                  file  status  \\\n",
       "0   abdelhaks-20210226       1   \n",
       "1   abdullaha-20210426       0   \n",
       "2    achouria-20210209       0   \n",
       "3    achouria-20210322       0   \n",
       "4  aitbaddouk-20210519       1   \n",
       "\n",
       "                                               label label_num  \n",
       "0  Pas d'évidence de trouble d'ordre métabolique ...         0  \n",
       "1  Pas d'évidence de trouble d'ordre métabolique ...         3  \n",
       "2  Pas d'évidence de trouble d'ordre métabolique ...         4  \n",
       "3  Pas d'évidence de trouble d'ordre métabolique ...         4  \n",
       "4  Pas d'évidence de trouble d'ordre métabolique ...         0  "
      ],
      "text/html": [
       "<div>\n",
       "<style scoped>\n",
       "    .dataframe tbody tr th:only-of-type {\n",
       "        vertical-align: middle;\n",
       "    }\n",
       "\n",
       "    .dataframe tbody tr th {\n",
       "        vertical-align: top;\n",
       "    }\n",
       "\n",
       "    .dataframe thead th {\n",
       "        text-align: right;\n",
       "    }\n",
       "</style>\n",
       "<table border=\"1\" class=\"dataframe\">\n",
       "  <thead>\n",
       "    <tr style=\"text-align: right;\">\n",
       "      <th></th>\n",
       "      <th>file</th>\n",
       "      <th>status</th>\n",
       "      <th>label</th>\n",
       "      <th>label_num</th>\n",
       "    </tr>\n",
       "  </thead>\n",
       "  <tbody>\n",
       "    <tr>\n",
       "      <th>0</th>\n",
       "      <td>abdelhaks-20210226</td>\n",
       "      <td>1</td>\n",
       "      <td>Pas d'évidence de trouble d'ordre métabolique ...</td>\n",
       "      <td>0</td>\n",
       "    </tr>\n",
       "    <tr>\n",
       "      <th>1</th>\n",
       "      <td>abdullaha-20210426</td>\n",
       "      <td>0</td>\n",
       "      <td>Pas d'évidence de trouble d'ordre métabolique ...</td>\n",
       "      <td>3</td>\n",
       "    </tr>\n",
       "    <tr>\n",
       "      <th>2</th>\n",
       "      <td>achouria-20210209</td>\n",
       "      <td>0</td>\n",
       "      <td>Pas d'évidence de trouble d'ordre métabolique ...</td>\n",
       "      <td>4</td>\n",
       "    </tr>\n",
       "    <tr>\n",
       "      <th>3</th>\n",
       "      <td>achouria-20210322</td>\n",
       "      <td>0</td>\n",
       "      <td>Pas d'évidence de trouble d'ordre métabolique ...</td>\n",
       "      <td>4</td>\n",
       "    </tr>\n",
       "    <tr>\n",
       "      <th>4</th>\n",
       "      <td>aitbaddouk-20210519</td>\n",
       "      <td>1</td>\n",
       "      <td>Pas d'évidence de trouble d'ordre métabolique ...</td>\n",
       "      <td>0</td>\n",
       "    </tr>\n",
       "  </tbody>\n",
       "</table>\n",
       "</div>"
      ]
     },
     "metadata": {},
     "execution_count": 24
    }
   ],
   "metadata": {}
  },
  {
   "cell_type": "markdown",
   "source": [
    "On vérifie ensuite que le fichier de base de donnée n'a pas été compromis par un autre élément du projet."
   ],
   "metadata": {}
  },
  {
   "cell_type": "code",
   "execution_count": 25,
   "source": [
    "# vérification qu'il n'y a pas d'erreur\r\n",
    "temp = db[~db[\"status\"].isin([0,1])]\r\n",
    "print(temp.head())\r\n",
    "temp = db[(db['status'] == 1) & (db['label_num'] != '0')]\r\n",
    "print(temp)\r\n",
    "temp = db[(db['status'] == 0) & (db['label_num'] == '0')]\r\n",
    "print(temp)"
   ],
   "outputs": [
    {
     "output_type": "stream",
     "name": "stdout",
     "text": [
      "Empty DataFrame\n",
      "Columns: [file, status, label, label_num]\n",
      "Index: []\n",
      "Empty DataFrame\n",
      "Columns: [file, status, label, label_num]\n",
      "Index: []\n",
      "Empty DataFrame\n",
      "Columns: [file, status, label, label_num]\n",
      "Index: []\n"
     ]
    }
   ],
   "metadata": {}
  },
  {
   "cell_type": "markdown",
   "source": [
    "Ensuite plutôt que d'avoir uniquement le nom des chromatogrammes, on peut récupérer les courbes traitées avec la fonction `readListOfData`."
   ],
   "metadata": {}
  },
  {
   "cell_type": "code",
   "execution_count": 134,
   "source": [
    "#db['chromato'] = tools.readListOfData(db['file'], PATH)\r\n",
    "#print(db)"
   ],
   "outputs": [],
   "metadata": {}
  },
  {
   "cell_type": "code",
   "execution_count": 135,
   "source": [
    "#db['chromato'][0].df.plot()"
   ],
   "outputs": [],
   "metadata": {}
  },
  {
   "cell_type": "markdown",
   "source": [
    "Sélection des colonnes pour l'entrainement du réseau (dans le cas normal/non normal)"
   ],
   "metadata": {}
  },
  {
   "cell_type": "code",
   "execution_count": 136,
   "source": [
    "#db.loc[:, ['chromato', 'status']]"
   ],
   "outputs": [],
   "metadata": {}
  },
  {
   "cell_type": "markdown",
   "source": [
    "Pour connaitre l'efficacité d'un humain et donc avoir une base de comparaison pour l'algorithme d'intelligence artificielle, on peut ici donner un echantillon de données à diagnostiquer, toutes les catégories étant également représentés."
   ],
   "metadata": {}
  },
  {
   "cell_type": "code",
   "execution_count": 137,
   "source": [
    "import random\r\n",
    "\r\n",
    "print(len(db))\r\n",
    "test_names = []\r\n",
    "for i in range(6):\r\n",
    "    temp = db[db['label_num'].str.contains(str(i)) == True]\r\n",
    "    print(i, '  ', len(temp))\r\n",
    "    for j in range(6):\r\n",
    "        test_names.append(temp['file'].iloc[random.randrange(len(temp))])\r\n",
    "random.shuffle(test_names)\r\n",
    "\r\n",
    "for i in test_names:\r\n",
    "    print(i)"
   ],
   "outputs": [
    {
     "output_type": "stream",
     "name": "stdout",
     "text": [
      "566\n",
      "0    299\n",
      "1    25\n",
      "2    65\n",
      "3    76\n",
      "4    91\n",
      "5    27\n",
      "bertrandp-20190201\n",
      "settouchei-20190424\n",
      "mangonim-20190717\n",
      "syh-20190912\n",
      "mastourab-20190219\n",
      "chesinara-20191009\n",
      "husica-20191108\n",
      "bruyelleCn-20191017\n",
      "dimolad-20190909\n",
      "botafemmin-20190225\n",
      "chesnaisv-20190715\n",
      "colakeram-20190923\n",
      "heriquem-20190329\n",
      "durmc-20190724\n",
      "piechockil-20190910\n",
      "heriquem-20190329\n",
      "genouxm-20190401\n",
      "parisetn-20190116\n",
      "wagnerg-20190620\n",
      "durmc-20190802\n",
      "rachidin-20191217\n",
      "contall-20191203\n",
      "usmana-20190520\n",
      "rettele-20190509\n",
      "contall-20191203\n",
      "harutyunan-20190211\n",
      "tassettii-20190412\n",
      "bonjourg-20190713\n",
      "calamel-20190925\n",
      "picardl-20190618\n",
      "bonomim-20191124\n",
      "dosdas-20190924\n",
      "damaouin-20191104\n",
      "bruets-20190304\n",
      "benyahiak-20190228\n",
      "marechalj-20190518\n"
     ]
    }
   ],
   "metadata": {}
  },
  {
   "cell_type": "markdown",
   "source": [
    "Exemple de données sous forme de matrice pour l'utilisation en machine learning avec scikit-learn, et affichage du premier chromatogramme.\r\n",
    "Chaque chromatogramme est représenté sur une ligne de la matrice."
   ],
   "metadata": {}
  },
  {
   "cell_type": "code",
   "execution_count": 138,
   "source": [
    "\"\"\"import matplotlib.pyplot as plt\r\n",
    "reload(tools)\r\n",
    "X, y = tools.getData(FILE, PATH)\r\n",
    "print('Nombre de données', len(y))\r\n",
    "print(\"En entrée : \\n\", X, \"\\nEn sortie : \", y)\r\n",
    "plt.plot(X[0, :])\r\n",
    "plt.show()\"\"\""
   ],
   "outputs": [
    {
     "output_type": "execute_result",
     "data": {
      "text/plain": [
       "'import matplotlib.pyplot as plt\\nreload(tools)\\nX, y = tools.getData(FILE, PATH)\\nprint(\\'Nombre de données\\', len(y))\\nprint(\"En entrée : \\n\", X, \"\\nEn sortie : \", y)\\nplt.plot(X[0, :])\\nplt.show()'"
      ]
     },
     "metadata": {},
     "execution_count": 138
    }
   ],
   "metadata": {}
  },
  {
   "cell_type": "markdown",
   "source": [
    "Dans le but de limiter le temps de calcul, dans la base de donnée finale utilisée, les fichiers enregistrés sont ceux après traitement, et les trois années sont rassemblées en un fichier."
   ],
   "metadata": {}
  },
  {
   "cell_type": "code",
   "execution_count": 1,
   "source": [
    "import tools\r\n",
    "import pandas as pd\r\n",
    "\r\n",
    "files = ['database-2019', 'database-2020', 'database-2021']\r\n",
    "paths = ['../data/2019', '../data/2020', '../data/2021']\r\n",
    "\r\n",
    "database = open('../data/data_final/database.csv', 'w')\r\n",
    "size = 0\r\n",
    "\r\n",
    "for i in range(len(files)):\r\n",
    "    # lecture de la base de donnée de l'année sélectionnée\r\n",
    "    db = pd.read_csv('../data/' + files[i] + '.csv')\r\n",
    "    chromatos = db['file'].to_numpy()\r\n",
    "    # enregistrement de chaque chromatogramme après traitement\r\n",
    "    for chromato in chromatos:\r\n",
    "        try:\r\n",
    "            data = tools.readAndAdaptDataFromCSV(paths[i], chromato)\r\n",
    "        except tools.ReadDataException as e:\r\n",
    "            print(chromato, '  ', e)\r\n",
    "            continue\r\n",
    "        data.df['values'].to_csv('../data/data_final/' + chromato + '.csv')\r\n",
    "        size += 1\r\n",
    "    # ajout des lignes corespondantes dans la base de donnée finale\r\n",
    "    f = open('../data/' + files[i] + '.csv')\r\n",
    "    content = f.read()\r\n",
    "    database.write(content+'\\n')\r\n",
    "database.close()\r\n",
    "print('taille de la base de donnée : ', size)\r\n",
    "    \r\n"
   ],
   "outputs": [
    {
     "output_type": "stream",
     "name": "stdout",
     "text": [
      "kaczorc-202011121    Le fichier chromatogramme n'a pas pu être trouvé\n",
      "seghiri-20200813    Une des molécules est détectée en dehors de l'intervalle de temps de la mesure\n",
      "taille de la base de donnée :  1370\n"
     ]
    }
   ],
   "metadata": {}
  },
  {
   "cell_type": "markdown",
   "source": [
    "Mise en place d'une base de donnée d'entrainement et de test"
   ],
   "metadata": {}
  },
  {
   "cell_type": "code",
   "execution_count": 3,
   "source": [
    "from shutil import copyfile\r\n",
    "\r\n",
    "path = '../data/data_final/'\r\n",
    "path_train = '../data/train/'\r\n",
    "path_test = '../data/test/'\r\n",
    "\r\n",
    "\r\n",
    "db = pd.read_csv(path + 'database.csv')\r\n",
    "print('Taille originale : ', len(db))\r\n",
    "\r\n",
    "train_set = db.sample(frac = 0.90)\r\n",
    "test_set = db.drop(train_set.index)\r\n",
    "print('Taille train_set : ', len(train_set), ' Taille test_set : ', len(test_set))\r\n",
    "\r\n",
    "for file in train_set['file']:\r\n",
    "    copyfile(path + file + '.csv', path_train + file + '.csv')\r\n",
    "\r\n",
    "for file in test_set['file']:\r\n",
    "    copyfile(path + file + '.csv', path_test + file + '.csv')\r\n",
    "\r\n",
    "train_set.to_csv(path_train + 'database.csv')\r\n",
    "test_set.to_csv(path_test + 'database.csv')"
   ],
   "outputs": [
    {
     "output_type": "stream",
     "name": "stdout",
     "text": [
      "Taille originale :  1370\n",
      "Taille train_set :  1233  Taille test_set :  137\n"
     ]
    }
   ],
   "metadata": {}
  }
 ],
 "metadata": {
  "interpreter": {
   "hash": "8c4dcd3a071dd88a141e61cb3846a3ad57c7a576061c6011e309b7dc0280f508"
  },
  "kernelspec": {
   "name": "python3",
   "display_name": "Python 3.9.5 64-bit ('GCMS': conda)"
  },
  "language_info": {
   "codemirror_mode": {
    "name": "ipython",
    "version": 3
   },
   "file_extension": ".py",
   "mimetype": "text/x-python",
   "name": "python",
   "nbconvert_exporter": "python",
   "pygments_lexer": "ipython3",
   "version": "3.9.5"
  },
  "orig_nbformat": 4
 },
 "nbformat": 4,
 "nbformat_minor": 2
}