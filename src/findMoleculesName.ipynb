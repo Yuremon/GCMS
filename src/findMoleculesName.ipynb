{
 "cells": [
  {
   "cell_type": "code",
   "execution_count": 7,
   "metadata": {},
   "outputs": [],
   "source": [
    "import pandas as pd\r\n",
    "import tools\r\n",
    "from importlib import reload\r\n",
    "reload(tools)\r\n",
    "\r\n",
    "pd.options.plotting.backend = \"plotly\""
   ]
  },
  {
   "cell_type": "code",
   "execution_count": 8,
   "metadata": {},
   "outputs": [
    {
     "name": "stdout",
     "output_type": "stream",
     "text": [
      "[['Acide Lactique', 'ACIDE LACTIQUE', '13C3-Lact', 'Krebs-Acide Lactique*', 'Krebs-Acide Lactique', '01_LACTIC'], ['Acide 4-Phenylbutyrique', '4 phenylbutyrique', 'Acide 4 phenylbutyrique'], ['Acide O-OH-Phenylacetiqu', 'x o-OHphenylacetic', 'o-OH-Phenyl acetique'], ['C17-Heptadecanoique', '68. ETALON INT 2'], ['Acide 3OH-Propionique', 'Acide 3OH-Propionique 20', 'Acide 3OH-Propionique*', 'AC. 3OH PROPIONIQUE'], ['Acide Methylmalonique', 'Acide Methylmalonique 20', 'Acide Methylmalonique*', 'AC. METHYLMALONIQUE'], ['Acide Fumarique', 'Acide Fumarique 20200722', 'ACIDE FUMARIQUE', 'Acide Fumarique 20170708', 'Acide Fumarique*', 'Acide Fumarique 20190708'], ['Acide Glutarique', 'Acide Glutarique 2020072', 'Acide Glutarique 2019071', 'Acide Glutarique*'], ['Acide 3CH3-Glutarique', 'Acide 3CH3-Glutarique 20', 'ACIDE 3CH3GLUTARIQUE'], ['3 methyl-glutaconique', '31_3-METHYLGLUT', 'Acide 3CH3-Glutaconique'], ['Acide Adipique', 'Acide Adipique 20200722', 'Acide Adipique 20190712', 'Acide Adipique*'], ['Acide 3OH-Glutarique', 'Acide 2OH-Glutarique 202', 'Acide 3OH-Glutarique 201'], ['Acide Homovanillique', 'X HOMOVANILLIC'], ['Vanillyl propionique', 'X Vanillilpropanoic chk'], ['Vanillyl Lactique', 'ac benzene propanoic 3 metho'], ['Isovaleryl Glycine', 'Isovalerylglycine']]\n",
      "fichier :  aafify-20190313 [7.186, 22.783, 24.023, 38.837, None, None, 17.457, None, 19.856, 20.283, None, None, 29.744, None, None, None]\n",
      "fichier :  battaglian-20190102 [7.262, 22.881, 24.139, 38.912, 10.273, None, 17.576, None, None, None, None, None, None, None, None, None]\n",
      "fichier :  benyahiak-20190227 [7.273, 22.859, 24.122, 38.89, None, None, 17.587, None, None, None, None, None, 29.863, None, None, None]\n",
      "fichier :  benyahiak-20190228 [7.231, 22.935, 24.222, 38.881, None, 15.04, 17.705, None, None, None, None, None, None, None, None, None]\n",
      "fichier :  bicqueletl-20190328 [7.129, 22.714, 23.935, 38.775, None, None, 17.384, None, None, None, None, None, 29.696, None, None, None]\n",
      "fichier :  bouchardc-20190506 [6.879, 22.203, 23.43, 38.261, None, 9.476, None, None, None, 20.005, None, None, 29.475, None, None, None]\n",
      "fichier :  burgains-20190417 [7.093, 22.703, 23.924, 38.755, 10.095, 12.607, None, 19.153, 19.774, 21.594, 22.285, 24.442, 29.649, None, None, 22.703]\n",
      "fichier :  chaumonta-20190515 [6.878, 22.508, 23.746, 38.719, 9.872, None, None, None, None, None, None, None, 29.473, None, None, None]\n",
      "fichier :  colletn-20190104 [7.264, 22.882, 24.126, 38.907, None, None, 17.575, None, None, None, None, None, None, None, None, None]\n",
      "fichier :  cordonnierr-2019040 [7.151, 22.725, 23.948, 38.782, None, 12.662, 17.407, None, None, None, None, None, None, None, None, None]\n",
      "fichier :  doletc-20190314 [7.175, 22.777, 24.022, 38.809, 10.181, None, 17.502, None, None, None, None, None, 29.746, None, None, None]\n"
     ]
    }
   ],
   "source": [
    "FILE = \"../data/database-verified.csv\"\r\n",
    "PATH = \"../data/data-IA/\"\r\n",
    "\r\n",
    "db = pd.read_csv(FILE)\r\n",
    "\r\n",
    "files = db['file'].to_numpy()\r\n",
    "nbPb = 0\r\n",
    "for file in files:\r\n",
    "    dt = tools.readAndAdaptDataFromCSV(PATH, file)\r\n",
    "    if dt.spikes.count(None) > 2:\r\n",
    "        nbPb += 1\r\n",
    "        print('fichier : ', file, dt.spikes)\r\n",
    "    if nbPb > 10:\r\n",
    "        break\r\n"
   ]
  }
 ],
 "metadata": {
  "interpreter": {
   "hash": "8c4dcd3a071dd88a141e61cb3846a3ad57c7a576061c6011e309b7dc0280f508"
  },
  "kernelspec": {
   "display_name": "Python 3.9.5 64-bit ('GCMS': conda)",
   "name": "python3"
  },
  "language_info": {
   "codemirror_mode": {
    "name": "ipython",
    "version": 3
   },
   "file_extension": ".py",
   "mimetype": "text/x-python",
   "name": "python",
   "nbconvert_exporter": "python",
   "pygments_lexer": "ipython3",
   "version": "3.9.5"
  },
  "orig_nbformat": 4
 },
 "nbformat": 4,
 "nbformat_minor": 2
}