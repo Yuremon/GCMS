{
 "cells": [
  {
   "cell_type": "code",
   "execution_count": 17,
   "source": [
    "import tools\r\n",
    "import numpy as np\r\n",
    "from sklearn.model_selection import GridSearchCV\r\n",
    "from sklearn.metrics import classification_report, precision_score, recall_score, make_scorer, roc_auc_score\r\n",
    "from confusion_matrix.confusion_matrix import plot_confusion_matrix_from_data\r\n",
    "\r\n",
    "from sklearn.decomposition import PCA, TruncatedSVD\r\n",
    "from sklearn.manifold import LocallyLinearEmbedding\r\n",
    "from sklearn.random_projection import SparseRandomProjection\r\n",
    "\r\n",
    "from sklearn.ensemble import RandomForestClassifier, AdaBoostClassifier\r\n",
    "from sklearn.svm import SVC\r\n",
    "from xgboost import XGBClassifier"
   ],
   "outputs": [],
   "metadata": {}
  },
  {
   "cell_type": "code",
   "execution_count": 18,
   "source": [
    "from importlib import reload\r\n",
    "reload(tools)\r\n",
    "\r\n",
    "path_train = '../data/train/'\r\n",
    "path_test = '../data/test/'\r\n",
    "\r\n",
    "X_train_origin, y_train = tools.getDataTransformed(path_train + 'database.csv', path_train)\r\n",
    "X_test_origin, y_test = tools.getDataTransformed(path_test + 'database.csv', path_test)"
   ],
   "outputs": [],
   "metadata": {}
  },
  {
   "cell_type": "code",
   "execution_count": 19,
   "source": [
    "dimention_reduction = [None, PCA, TruncatedSVD, LocallyLinearEmbedding, SparseRandomProjection] # LinearDiscriminantAnalysis,\r\n",
    "techniques = [RandomForestClassifier(), SVC(), AdaBoostClassifier(), XGBClassifier(use_label_encoder=False, eval_metric='logloss')]\r\n",
    "grid_params =[\r\n",
    "    {\r\n",
    "        'n_estimators': np.arange(10, 100, 10),\r\n",
    "        'criterion': ['gini', 'entropy']\r\n",
    "    },\r\n",
    "    {\r\n",
    "        'kernel' : ['linear', 'poly', 'rbf', 'sigmoid'],\r\n",
    "        'degree' : np.arange(2,5)\r\n",
    "    },\r\n",
    "    {\r\n",
    "        'n_estimators' : np.arange(10, 100, 10)\r\n",
    "    },\r\n",
    "    {\r\n",
    "        'booster' : ['gbtree', 'gblinear', 'dart'],\r\n",
    "        'eta' : np.arange(0.1,0.9,0.2)\r\n",
    "    }\r\n",
    "]\r\n",
    "\r\n",
    "data_size = range(50,501,200)"
   ],
   "outputs": [],
   "metadata": {}
  },
  {
   "cell_type": "code",
   "execution_count": 20,
   "source": [
    "# focntions utiles pour trouver le meilleur algo :\r\n",
    "def accuracy_scorrer(estimator, X_test, y_test):\r\n",
    "    return estimator.score(X_test, y_test)\r\n",
    "\r\n",
    "def recall_scorrer(estimator, X_test, y_true):\r\n",
    "    y_pred = estimator.predict(X_test)\r\n",
    "    return recall_score(y_true, y_pred, average=None)[0] # recall sur les non normaux (0)\r\n",
    "\r\n",
    "def precision_scorrer(estimator, X_test, y_true):\r\n",
    "    y_pred = estimator.predict(X_test)\r\n",
    "    return precision_score(y_true, y_pred, average=None)[1] # precision sur les normaux (1)\r\n",
    "\r\n",
    "def precision_and_recall_scorer(estimator, X_test, y_true):\r\n",
    "    y_pred = estimator.predict(X_test)\r\n",
    "    return precision_score(y_true, y_pred, average=None)[1] + recall_score(y_true, y_pred, average=None)[0]\r\n",
    "\r\n",
    "auc_scorrer = make_scorer(roc_auc_score)"
   ],
   "outputs": [],
   "metadata": {}
  },
  {
   "cell_type": "code",
   "execution_count": 21,
   "source": [
    "\"\"\"technique = RandomForestClassifier()\r\n",
    "red = None\r\n",
    "print(grid_params[0])\r\n",
    "grid = GridSearchCV(estimator=technique, param_grid=grid_params[0])\r\n",
    "grid.fit(X_train_origin, y_train)\r\n",
    "print(grid.best_estimator_)\r\n",
    "model = MachineLearningTechnique(grid.best_estimator_, red)\r\n",
    "model.displayMetrics(X_test_origin, y_test)\"\"\""
   ],
   "outputs": [
    {
     "output_type": "execute_result",
     "data": {
      "text/plain": [
       "'technique = RandomForestClassifier()\\nred = None\\nprint(grid_params[0])\\ngrid = GridSearchCV(estimator=technique, param_grid=grid_params[0])\\ngrid.fit(X_train_origin, y_train)\\nprint(grid.best_estimator_)\\nmodel = MachineLearningTechnique(grid.best_estimator_, red)\\nmodel.displayMetrics(X_test_origin, y_test)'"
      ]
     },
     "metadata": {},
     "execution_count": 21
    }
   ],
   "metadata": {}
  },
  {
   "cell_type": "code",
   "execution_count": 22,
   "source": [
    "best_model = None\r\n",
    "best_score = -1\r\n",
    "\r\n",
    "# https://scikit-learn.org/stable/auto_examples/model_selection/plot_multi_metric_evaluation.html#sphx-glr-auto-examples-model-selection-plot-multi-metric-evaluation-py\r\n",
    "# regarder du coté des pipeline (voir pour la réduction de dimension)\r\n",
    "# https://stackoverflow.com/questions/38555650/try-multiple-estimator-in-one-grid-search\r\n",
    "\r\n",
    "for reduction in dimention_reduction:\r\n",
    "    print(reduction)    \r\n",
    "    if reduction is None:\r\n",
    "        X_train = X_train_origin.copy()\r\n",
    "        X_test = X_test_origin.copy()\r\n",
    "        for i in range(len(techniques)):\r\n",
    "            print(techniques[i])\r\n",
    "            grid = GridSearchCV(estimator=techniques[i], param_grid=grid_params[i], scoring=precision_and_recall_scorer) # scorring=precision_and_recall_scorer\r\n",
    "            grid_result = grid.fit(X_train, y_train)\r\n",
    "            #results = grid_result.cv_results_\r\n",
    "            model = tools.MachineLearningTechnique(grid_result.best_estimator_, None)          \r\n",
    "            score = auc_scorrer(model.model, X_test, y_test)#model.score(X_test_origin, y_test)\r\n",
    "            if score > best_score:\r\n",
    "                best_model = model\r\n",
    "                best_score = score\r\n",
    "        continue\r\n",
    "    for size in data_size:\r\n",
    "        print(size)\r\n",
    "        X_train = X_train_origin.copy()\r\n",
    "        X_test = X_test_origin.copy()\r\n",
    "        red = reduction(n_components=size)\r\n",
    "        try:\r\n",
    "            X_train = red.fit_transform(X_train, y_train)\r\n",
    "        except Exception as e:\r\n",
    "            print(e)\r\n",
    "            print(reduction)\r\n",
    "            print('fin')\r\n",
    "            continue\r\n",
    "        X_test = red.transform(X_test)\r\n",
    "        for i in range(len(techniques)):\r\n",
    "            print(techniques[i])\r\n",
    "            grid = GridSearchCV(estimator=techniques[i], param_grid=grid_params[i], scoring=precision_and_recall_scorer) # scorring=precision_and_recall_scorer\r\n",
    "            grid_result = grid.fit(X_train, y_train)\r\n",
    "            #results = grid_result.cv_results_\r\n",
    "            model = tools.MachineLearningTechnique(grid_result.best_estimator_, red)          \r\n",
    "            score = precision_and_recall_scorer(model.model, X_test, y_test) #model.score(X_test, y_test)\r\n",
    "            if score > best_score:\r\n",
    "                best_model = model\r\n",
    "                best_score = score\r\n",
    "\r\n",
    "best_model.displayMetrics(X_test_origin, y_test)\r\n",
    "best_model.save('../')"
   ],
   "outputs": [
    {
     "output_type": "stream",
     "name": "stdout",
     "text": [
      "None\n",
      "RandomForestClassifier()\n",
      "SVC()\n",
      "AdaBoostClassifier()\n",
      "XGBClassifier(base_score=None, booster=None, colsample_bylevel=None,\n",
      "              colsample_bynode=None, colsample_bytree=None,\n",
      "              eval_metric='logloss', gamma=None, gpu_id=None,\n",
      "              importance_type='gain', interaction_constraints=None,\n",
      "              learning_rate=None, max_delta_step=None, max_depth=None,\n",
      "              min_child_weight=None, missing=nan, monotone_constraints=None,\n",
      "              n_estimators=100, n_jobs=None, num_parallel_tree=None,\n",
      "              random_state=None, reg_alpha=None, reg_lambda=None,\n",
      "              scale_pos_weight=None, subsample=None, tree_method=None,\n",
      "              use_label_encoder=False, validate_parameters=None,\n",
      "              verbosity=None)\n",
      "<class 'sklearn.decomposition._pca.PCA'>\n",
      "50\n",
      "RandomForestClassifier()\n",
      "SVC()\n",
      "AdaBoostClassifier()\n",
      "XGBClassifier(base_score=None, booster=None, colsample_bylevel=None,\n",
      "              colsample_bynode=None, colsample_bytree=None,\n",
      "              eval_metric='logloss', gamma=None, gpu_id=None,\n",
      "              importance_type='gain', interaction_constraints=None,\n",
      "              learning_rate=None, max_delta_step=None, max_depth=None,\n",
      "              min_child_weight=None, missing=nan, monotone_constraints=None,\n",
      "              n_estimators=100, n_jobs=None, num_parallel_tree=None,\n",
      "              random_state=None, reg_alpha=None, reg_lambda=None,\n",
      "              scale_pos_weight=None, subsample=None, tree_method=None,\n",
      "              use_label_encoder=False, validate_parameters=None,\n",
      "              verbosity=None)\n",
      "250\n",
      "RandomForestClassifier()\n",
      "SVC()\n",
      "AdaBoostClassifier()\n",
      "XGBClassifier(base_score=None, booster=None, colsample_bylevel=None,\n",
      "              colsample_bynode=None, colsample_bytree=None,\n",
      "              eval_metric='logloss', gamma=None, gpu_id=None,\n",
      "              importance_type='gain', interaction_constraints=None,\n",
      "              learning_rate=None, max_delta_step=None, max_depth=None,\n",
      "              min_child_weight=None, missing=nan, monotone_constraints=None,\n",
      "              n_estimators=100, n_jobs=None, num_parallel_tree=None,\n",
      "              random_state=None, reg_alpha=None, reg_lambda=None,\n",
      "              scale_pos_weight=None, subsample=None, tree_method=None,\n",
      "              use_label_encoder=False, validate_parameters=None,\n",
      "              verbosity=None)\n",
      "450\n",
      "RandomForestClassifier()\n",
      "SVC()\n",
      "AdaBoostClassifier()\n",
      "XGBClassifier(base_score=None, booster=None, colsample_bylevel=None,\n",
      "              colsample_bynode=None, colsample_bytree=None,\n",
      "              eval_metric='logloss', gamma=None, gpu_id=None,\n",
      "              importance_type='gain', interaction_constraints=None,\n",
      "              learning_rate=None, max_delta_step=None, max_depth=None,\n",
      "              min_child_weight=None, missing=nan, monotone_constraints=None,\n",
      "              n_estimators=100, n_jobs=None, num_parallel_tree=None,\n",
      "              random_state=None, reg_alpha=None, reg_lambda=None,\n",
      "              scale_pos_weight=None, subsample=None, tree_method=None,\n",
      "              use_label_encoder=False, validate_parameters=None,\n",
      "              verbosity=None)\n",
      "<class 'sklearn.decomposition._truncated_svd.TruncatedSVD'>\n",
      "50\n",
      "RandomForestClassifier()\n",
      "SVC()\n",
      "AdaBoostClassifier()\n",
      "XGBClassifier(base_score=None, booster=None, colsample_bylevel=None,\n",
      "              colsample_bynode=None, colsample_bytree=None,\n",
      "              eval_metric='logloss', gamma=None, gpu_id=None,\n",
      "              importance_type='gain', interaction_constraints=None,\n",
      "              learning_rate=None, max_delta_step=None, max_depth=None,\n",
      "              min_child_weight=None, missing=nan, monotone_constraints=None,\n",
      "              n_estimators=100, n_jobs=None, num_parallel_tree=None,\n",
      "              random_state=None, reg_alpha=None, reg_lambda=None,\n",
      "              scale_pos_weight=None, subsample=None, tree_method=None,\n",
      "              use_label_encoder=False, validate_parameters=None,\n",
      "              verbosity=None)\n",
      "250\n",
      "RandomForestClassifier()\n",
      "SVC()\n",
      "AdaBoostClassifier()\n",
      "XGBClassifier(base_score=None, booster=None, colsample_bylevel=None,\n",
      "              colsample_bynode=None, colsample_bytree=None,\n",
      "              eval_metric='logloss', gamma=None, gpu_id=None,\n",
      "              importance_type='gain', interaction_constraints=None,\n",
      "              learning_rate=None, max_delta_step=None, max_depth=None,\n",
      "              min_child_weight=None, missing=nan, monotone_constraints=None,\n",
      "              n_estimators=100, n_jobs=None, num_parallel_tree=None,\n",
      "              random_state=None, reg_alpha=None, reg_lambda=None,\n",
      "              scale_pos_weight=None, subsample=None, tree_method=None,\n",
      "              use_label_encoder=False, validate_parameters=None,\n",
      "              verbosity=None)\n",
      "450\n",
      "RandomForestClassifier()\n",
      "SVC()\n",
      "AdaBoostClassifier()\n",
      "XGBClassifier(base_score=None, booster=None, colsample_bylevel=None,\n",
      "              colsample_bynode=None, colsample_bytree=None,\n",
      "              eval_metric='logloss', gamma=None, gpu_id=None,\n",
      "              importance_type='gain', interaction_constraints=None,\n",
      "              learning_rate=None, max_delta_step=None, max_depth=None,\n",
      "              min_child_weight=None, missing=nan, monotone_constraints=None,\n",
      "              n_estimators=100, n_jobs=None, num_parallel_tree=None,\n",
      "              random_state=None, reg_alpha=None, reg_lambda=None,\n",
      "              scale_pos_weight=None, subsample=None, tree_method=None,\n",
      "              use_label_encoder=False, validate_parameters=None,\n",
      "              verbosity=None)\n",
      "<class 'sklearn.manifold._locally_linear.LocallyLinearEmbedding'>\n",
      "50\n",
      "RandomForestClassifier()\n",
      "SVC()\n",
      "AdaBoostClassifier()\n",
      "XGBClassifier(base_score=None, booster=None, colsample_bylevel=None,\n",
      "              colsample_bynode=None, colsample_bytree=None,\n",
      "              eval_metric='logloss', gamma=None, gpu_id=None,\n",
      "              importance_type='gain', interaction_constraints=None,\n",
      "              learning_rate=None, max_delta_step=None, max_depth=None,\n",
      "              min_child_weight=None, missing=nan, monotone_constraints=None,\n",
      "              n_estimators=100, n_jobs=None, num_parallel_tree=None,\n",
      "              random_state=None, reg_alpha=None, reg_lambda=None,\n",
      "              scale_pos_weight=None, subsample=None, tree_method=None,\n",
      "              use_label_encoder=False, validate_parameters=None,\n",
      "              verbosity=None)\n",
      "250\n",
      "RandomForestClassifier()\n",
      "SVC()\n",
      "AdaBoostClassifier()\n",
      "XGBClassifier(base_score=None, booster=None, colsample_bylevel=None,\n",
      "              colsample_bynode=None, colsample_bytree=None,\n",
      "              eval_metric='logloss', gamma=None, gpu_id=None,\n",
      "              importance_type='gain', interaction_constraints=None,\n",
      "              learning_rate=None, max_delta_step=None, max_depth=None,\n",
      "              min_child_weight=None, missing=nan, monotone_constraints=None,\n",
      "              n_estimators=100, n_jobs=None, num_parallel_tree=None,\n",
      "              random_state=None, reg_alpha=None, reg_lambda=None,\n",
      "              scale_pos_weight=None, subsample=None, tree_method=None,\n",
      "              use_label_encoder=False, validate_parameters=None,\n",
      "              verbosity=None)\n",
      "450\n",
      "RandomForestClassifier()\n",
      "SVC()\n",
      "AdaBoostClassifier()\n",
      "XGBClassifier(base_score=None, booster=None, colsample_bylevel=None,\n",
      "              colsample_bynode=None, colsample_bytree=None,\n",
      "              eval_metric='logloss', gamma=None, gpu_id=None,\n",
      "              importance_type='gain', interaction_constraints=None,\n",
      "              learning_rate=None, max_delta_step=None, max_depth=None,\n",
      "              min_child_weight=None, missing=nan, monotone_constraints=None,\n",
      "              n_estimators=100, n_jobs=None, num_parallel_tree=None,\n",
      "              random_state=None, reg_alpha=None, reg_lambda=None,\n",
      "              scale_pos_weight=None, subsample=None, tree_method=None,\n",
      "              use_label_encoder=False, validate_parameters=None,\n",
      "              verbosity=None)\n",
      "<class 'sklearn.random_projection.SparseRandomProjection'>\n",
      "50\n",
      "RandomForestClassifier()\n",
      "SVC()\n",
      "AdaBoostClassifier()\n",
      "XGBClassifier(base_score=None, booster=None, colsample_bylevel=None,\n",
      "              colsample_bynode=None, colsample_bytree=None,\n",
      "              eval_metric='logloss', gamma=None, gpu_id=None,\n",
      "              importance_type='gain', interaction_constraints=None,\n",
      "              learning_rate=None, max_delta_step=None, max_depth=None,\n",
      "              min_child_weight=None, missing=nan, monotone_constraints=None,\n",
      "              n_estimators=100, n_jobs=None, num_parallel_tree=None,\n",
      "              random_state=None, reg_alpha=None, reg_lambda=None,\n",
      "              scale_pos_weight=None, subsample=None, tree_method=None,\n",
      "              use_label_encoder=False, validate_parameters=None,\n",
      "              verbosity=None)\n",
      "250\n",
      "RandomForestClassifier()\n",
      "SVC()\n",
      "AdaBoostClassifier()\n",
      "XGBClassifier(base_score=None, booster=None, colsample_bylevel=None,\n",
      "              colsample_bynode=None, colsample_bytree=None,\n",
      "              eval_metric='logloss', gamma=None, gpu_id=None,\n",
      "              importance_type='gain', interaction_constraints=None,\n",
      "              learning_rate=None, max_delta_step=None, max_depth=None,\n",
      "              min_child_weight=None, missing=nan, monotone_constraints=None,\n",
      "              n_estimators=100, n_jobs=None, num_parallel_tree=None,\n",
      "              random_state=None, reg_alpha=None, reg_lambda=None,\n",
      "              scale_pos_weight=None, subsample=None, tree_method=None,\n",
      "              use_label_encoder=False, validate_parameters=None,\n",
      "              verbosity=None)\n"
     ]
    },
    {
     "output_type": "stream",
     "name": "stderr",
     "text": [
      "C:\\Users\\jleva\\anaconda3\\envs\\GCMS\\lib\\site-packages\\sklearn\\metrics\\_classification.py:1248: UndefinedMetricWarning: Precision is ill-defined and being set to 0.0 in labels with no predicted samples. Use `zero_division` parameter to control this behavior.\n",
      "  _warn_prf(average, modifier, msg_start, len(result))\n",
      "C:\\Users\\jleva\\anaconda3\\envs\\GCMS\\lib\\site-packages\\sklearn\\metrics\\_classification.py:1248: UndefinedMetricWarning: Precision is ill-defined and being set to 0.0 in labels with no predicted samples. Use `zero_division` parameter to control this behavior.\n",
      "  _warn_prf(average, modifier, msg_start, len(result))\n",
      "C:\\Users\\jleva\\anaconda3\\envs\\GCMS\\lib\\site-packages\\sklearn\\metrics\\_classification.py:1248: UndefinedMetricWarning: Precision is ill-defined and being set to 0.0 in labels with no predicted samples. Use `zero_division` parameter to control this behavior.\n",
      "  _warn_prf(average, modifier, msg_start, len(result))\n",
      "C:\\Users\\jleva\\anaconda3\\envs\\GCMS\\lib\\site-packages\\sklearn\\metrics\\_classification.py:1248: UndefinedMetricWarning: Precision is ill-defined and being set to 0.0 in labels with no predicted samples. Use `zero_division` parameter to control this behavior.\n",
      "  _warn_prf(average, modifier, msg_start, len(result))\n",
      "C:\\Users\\jleva\\anaconda3\\envs\\GCMS\\lib\\site-packages\\sklearn\\metrics\\_classification.py:1248: UndefinedMetricWarning: Precision is ill-defined and being set to 0.0 in labels with no predicted samples. Use `zero_division` parameter to control this behavior.\n",
      "  _warn_prf(average, modifier, msg_start, len(result))\n"
     ]
    },
    {
     "output_type": "stream",
     "name": "stdout",
     "text": [
      "450\n",
      "RandomForestClassifier()\n",
      "SVC()\n",
      "AdaBoostClassifier()\n",
      "XGBClassifier(base_score=None, booster=None, colsample_bylevel=None,\n",
      "              colsample_bynode=None, colsample_bytree=None,\n",
      "              eval_metric='logloss', gamma=None, gpu_id=None,\n",
      "              importance_type='gain', interaction_constraints=None,\n",
      "              learning_rate=None, max_delta_step=None, max_depth=None,\n",
      "              min_child_weight=None, missing=nan, monotone_constraints=None,\n",
      "              n_estimators=100, n_jobs=None, num_parallel_tree=None,\n",
      "              random_state=None, reg_alpha=None, reg_lambda=None,\n",
      "              scale_pos_weight=None, subsample=None, tree_method=None,\n",
      "              use_label_encoder=False, validate_parameters=None,\n",
      "              verbosity=None)\n"
     ]
    },
    {
     "output_type": "stream",
     "name": "stderr",
     "text": [
      "C:\\Users\\jleva\\anaconda3\\envs\\GCMS\\lib\\site-packages\\sklearn\\metrics\\_classification.py:1248: UndefinedMetricWarning: Precision is ill-defined and being set to 0.0 in labels with no predicted samples. Use `zero_division` parameter to control this behavior.\n",
      "  _warn_prf(average, modifier, msg_start, len(result))\n"
     ]
    },
    {
     "output_type": "stream",
     "name": "stdout",
     "text": [
      "Best reduction PCA(n_components=250)\n",
      "Best size :  250\n"
     ]
    },
    {
     "output_type": "error",
     "ename": "AttributeError",
     "evalue": "'MachineLearningTechnique' object has no attribute 'var_score'",
     "traceback": [
      "\u001b[1;31m---------------------------------------------------------------------------\u001b[0m",
      "\u001b[1;31mAttributeError\u001b[0m                            Traceback (most recent call last)",
      "\u001b[1;32m<ipython-input-22-f704378f46e9>\u001b[0m in \u001b[0;36m<module>\u001b[1;34m\u001b[0m\n\u001b[0;32m     46\u001b[0m                 \u001b[0mbest_score\u001b[0m \u001b[1;33m=\u001b[0m \u001b[0mscore\u001b[0m\u001b[1;33m\u001b[0m\u001b[1;33m\u001b[0m\u001b[0m\n\u001b[0;32m     47\u001b[0m \u001b[1;33m\u001b[0m\u001b[0m\n\u001b[1;32m---> 48\u001b[1;33m \u001b[0mbest_model\u001b[0m\u001b[1;33m.\u001b[0m\u001b[0mdisplayMetrics\u001b[0m\u001b[1;33m(\u001b[0m\u001b[0mX_test_origin\u001b[0m\u001b[1;33m,\u001b[0m \u001b[0my_test\u001b[0m\u001b[1;33m)\u001b[0m\u001b[1;33m\u001b[0m\u001b[1;33m\u001b[0m\u001b[0m\n\u001b[0m\u001b[0;32m     49\u001b[0m \u001b[0mbest_model\u001b[0m\u001b[1;33m.\u001b[0m\u001b[0msave\u001b[0m\u001b[1;33m(\u001b[0m\u001b[1;34m'../'\u001b[0m\u001b[1;33m)\u001b[0m\u001b[1;33m\u001b[0m\u001b[1;33m\u001b[0m\u001b[0m\n",
      "\u001b[1;32mc:\\Users\\jleva\\Documents\\Telecom\\2A\\stage\\GCMS\\src\\tools.py\u001b[0m in \u001b[0;36mdisplayMetrics\u001b[1;34m(self, X_test, y_test)\u001b[0m\n\u001b[0;32m     77\u001b[0m             \u001b[0mprint\u001b[0m\u001b[1;33m(\u001b[0m\u001b[1;34m'Best size : '\u001b[0m\u001b[1;33m,\u001b[0m \u001b[0mself\u001b[0m\u001b[1;33m.\u001b[0m\u001b[0mreduction\u001b[0m\u001b[1;33m.\u001b[0m\u001b[0mn_components\u001b[0m\u001b[1;33m)\u001b[0m\u001b[1;33m\u001b[0m\u001b[1;33m\u001b[0m\u001b[0m\n\u001b[0;32m     78\u001b[0m             \u001b[0mX_test\u001b[0m \u001b[1;33m=\u001b[0m \u001b[0mself\u001b[0m\u001b[1;33m.\u001b[0m\u001b[0mreduction\u001b[0m\u001b[1;33m.\u001b[0m\u001b[0mtransform\u001b[0m\u001b[1;33m(\u001b[0m\u001b[0mX_test\u001b[0m\u001b[1;33m)\u001b[0m\u001b[1;33m\u001b[0m\u001b[1;33m\u001b[0m\u001b[0m\n\u001b[1;32m---> 79\u001b[1;33m         \u001b[0mprint\u001b[0m\u001b[1;33m(\u001b[0m\u001b[1;34m'Best score : '\u001b[0m\u001b[1;33m,\u001b[0m \u001b[0mself\u001b[0m\u001b[1;33m.\u001b[0m\u001b[0mvar_score\u001b[0m\u001b[1;33m)\u001b[0m\u001b[1;33m\u001b[0m\u001b[1;33m\u001b[0m\u001b[0m\n\u001b[0m\u001b[0;32m     80\u001b[0m \u001b[1;33m\u001b[0m\u001b[0m\n\u001b[0;32m     81\u001b[0m         \u001b[0mpredictions\u001b[0m \u001b[1;33m=\u001b[0m \u001b[0mself\u001b[0m\u001b[1;33m.\u001b[0m\u001b[0mmodel\u001b[0m\u001b[1;33m.\u001b[0m\u001b[0mpredict\u001b[0m\u001b[1;33m(\u001b[0m\u001b[0mX_test\u001b[0m\u001b[1;33m)\u001b[0m\u001b[1;33m\u001b[0m\u001b[1;33m\u001b[0m\u001b[0m\n",
      "\u001b[1;31mAttributeError\u001b[0m: 'MachineLearningTechnique' object has no attribute 'var_score'"
     ]
    }
   ],
   "metadata": {}
  },
  {
   "cell_type": "code",
   "execution_count": 23,
   "source": [
    "print(best_model.reduction)\r\n",
    "reload(tools)\r\n",
    "best_model2 = tools.MachineLearningTechnique(best_model.model, best_model.reduction)\r\n",
    "best_model2.displayMetrics(X_test_origin, y_test)\r\n",
    "best_model2.save('../')"
   ],
   "outputs": [
    {
     "output_type": "stream",
     "name": "stdout",
     "text": [
      "PCA(n_components=250)\n",
      "Best reduction PCA(n_components=250)\n",
      "Best size :  250\n",
      "Best score :  0.7737226277372263\n",
      "Model :  RandomForestClassifier(n_estimators=50)\n",
      "              precision    recall  f1-score   support\n",
      "\n",
      "           0   0.736111  0.815385  0.773723        65\n",
      "           1   0.815385  0.736111  0.773723        72\n",
      "\n",
      "    accuracy                       0.773723       137\n",
      "   macro avg   0.775748  0.775748  0.773723       137\n",
      "weighted avg   0.777773  0.773723  0.773723       137\n",
      "\n"
     ]
    },
    {
     "output_type": "display_data",
     "data": {
      "text/plain": [
       "<Figure size 648x648 with 1 Axes>"
      ],
      "image/png": "[encoded data removed]"
     },
     "metadata": {
      "needs_background": "light"
     }
    },
    {
     "output_type": "display_data",
     "data": {
      "text/plain": [
       "<Figure size 432x288 with 1 Axes>"
      ],
      "image/png": "[encoded data removed]"
     },
     "metadata": {
      "needs_background": "light"
     }
    }
   ],
   "metadata": {}
  },
  {
   "cell_type": "markdown",
   "source": [
    "Comparaison avec un Humain (Test non complet pour le moment)\r\n",
    "bertrandp-20190201 : 3 + 4 -> 4<br>\r\n",
    "settouchei-20190424 : 2 + 3 -> 2<br>\r\n",
    "mangonim-20190717 : 0 -> 0<br>\r\n",
    "syh-20190912 : 2 -> 2<br>\r\n",
    "mastourab-20190219 : 1 (+2 ?) -> 1;4;2<br>\r\n",
    "chesinara-20191009 : 3 -> 3<br>\r\n",
    "husica-20191108 : 1 + 3 + 4 -> 1<br>\r\n",
    "bruyelleCn-20191017 : 3 -> 3<br>\r\n",
    "dimolad-20190909 : 2 -> 2<br>\r\n",
    "botafemmin-20190225 : 1 -> 1<br>\r\n",
    "colakeram-20190923 : 0 ? (sinon 2) -> 0<br>\r\n",
    "heriquem-20190329 : 4 ? (cinnamate) -> 5<br>\r\n",
    "durmc-20190724 : 0 ? -> 4<br>\r\n",
    "piechockil-20190910 : 1 + 4 -> 3;4<br>\r\n",
    "heriquem-20190329 : 3 -> 5<br>\r\n",
    "genouxm-20190401 : 2 + 3 -> 2<br>"
   ],
   "metadata": {}
  },
  {
   "cell_type": "code",
   "execution_count": 38,
   "source": [
    "from sklearn.metrics import multilabel_confusion_matrix, ConfusionMatrixDisplay\r\n",
    "y_test = [0,0,1,0,0,0,0,0,0,0,1,0,1,0,0,0]\r\n",
    "y_predict = [0,0,1,0,0,0,0,0,0,0,1,0,0,0,0,0]\r\n",
    "#y_test = np.array([[0,0,0,0,1,0],[0,0,0,1,0,0],[1,0,0,0,0,0],[0,0,1,0,0,0],[0,1,1,0,1,0],[0,0,0,1,0,0],[0,1,0,0,0,0],[0,0,0,1,0,0],[0,0,1,0,0,0],[0,1,0,0,0,0],[1,0,0,0,0,0],[0,0,0,0,0,1],[0,0,0,0,1,0],[0,0,0,1,1,0],[0,0,0,0,0,1],[0,0,1,0,0,0]])\r\n",
    "#y_predict = np.array([[0,0,0,1,1,0],[0,0,1,1,0,0],[1,0,0,0,0,0],[0,0,1,0,0,0],[0,1,1,0,0,0],[0,0,0,1,0,0],[0,1,0,1,1,0],[0,0,0,1,0,0],[0,0,1,0,0,0],[0,1,0,0,0,0],[1,0,0,0,0,0],[0,0,0,0,1,0],[1,0,0,0,0,0],[0,1,0,0,1,0],[0,0,0,1,0,0],[0,0,1,1,0,0]])\r\n",
    "\r\n",
    "#print(precision_score(y_test, y_predict, average=None)[1])\r\n",
    "#print(recall_score(y_test, y_predict, average=None)[0])\r\n",
    "\r\n",
    "sk_report = classification_report(\r\n",
    "    digits=6,\r\n",
    "    y_true=y_test, \r\n",
    "    y_pred=y_predict\r\n",
    ")\r\n",
    "print(sk_report)\r\n",
    "#matrix = multilabel_confusion_matrix(y_test, y_predict)#,columns=['non normal','normal'])\r\n",
    "#print(matrix)\r\n",
    "#disp = ConfusionMatrixDisplay(confusion_matrix=matrix)\r\n",
    "#disp.plot()\r\n",
    "plot_confusion_matrix_from_data(y_test, y_predict, columns=['non normal','normal'])"
   ],
   "outputs": [
    {
     "output_type": "stream",
     "name": "stdout",
     "text": [
      "              precision    recall  f1-score   support\n",
      "\n",
      "           0   0.928571  1.000000  0.962963        13\n",
      "           1   1.000000  0.666667  0.800000         3\n",
      "\n",
      "    accuracy                       0.937500        16\n",
      "   macro avg   0.964286  0.833333  0.881481        16\n",
      "weighted avg   0.941964  0.937500  0.932407        16\n",
      "\n"
     ]
    },
    {
     "output_type": "display_data",
     "data": {
      "text/plain": [
       "<Figure size 648x648 with 1 Axes>"
      ],
      "image/png": "[encoded data removed]"
     },
     "metadata": {
      "needs_background": "light"
     }
    }
   ],
   "metadata": {}
  }
 ],
 "metadata": {
  "interpreter": {
   "hash": "8c4dcd3a071dd88a141e61cb3846a3ad57c7a576061c6011e309b7dc0280f508"
  },
  "kernelspec": {
   "name": "python3",
   "display_name": "Python 3.9.5 64-bit ('GCMS': conda)"
  },
  "language_info": {
   "name": "python",
   "version": "3.9.5",
   "mimetype": "text/x-python",
   "codemirror_mode": {
    "name": "ipython",
    "version": 3
   },
   "pygments_lexer": "ipython3",
   "nbconvert_exporter": "python",
   "file_extension": ".py"
  },
  "orig_nbformat": 4
 },
 "nbformat": 4,
 "nbformat_minor": 2
}