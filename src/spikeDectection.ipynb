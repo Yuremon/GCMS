{
 "cells": [
  {
   "cell_type": "markdown",
   "metadata": {},
   "source": [
    "# Détection des pics de référence, ainsi que les molécules importante dans la détection des maladies\r\n",
    "Pour gagner en précision sur le temps mesuré, des molécules de références (supposés toujours présentes) permettent d'ajuster les imprécisions en temps, ainsi que de calibrer l'intensité des pics. <br>\r\n",
    "Cela permettra d'avoir des entrées qui restent similaires, même en cas de maintenance (ce qui peut affecter les mesures)."
   ]
  },
  {
   "cell_type": "code",
   "execution_count": 21,
   "metadata": {},
   "outputs": [],
   "source": [
    "import pandas as pd\r\n",
    "import numpy as np\r\n",
    "from importlib import reload\r\n",
    "\r\n",
    "import tools\r\n",
    "\r\n",
    "pd.options.plotting.backend = \"plotly\"\r\n",
    "reload(tools)\r\n",
    "\r\n",
    "PATH = \"../data/data-IA/aafifl-20190313-ms.csv\""
   ]
  },
  {
   "cell_type": "code",
   "execution_count": 22,
   "metadata": {},
   "outputs": [
    {
     "data": {
      "text/html": [
       "<div>\n",
       "<style scoped>\n",
       "    .dataframe tbody tr th:only-of-type {\n",
       "        vertical-align: middle;\n",
       "    }\n",
       "\n",
       "    .dataframe tbody tr th {\n",
       "        vertical-align: top;\n",
       "    }\n",
       "\n",
       "    .dataframe thead th {\n",
       "        text-align: right;\n",
       "    }\n",
       "</style>\n",
       "<table border=\"1\" class=\"dataframe\">\n",
       "  <thead>\n",
       "    <tr style=\"text-align: right;\">\n",
       "      <th></th>\n",
       "      <th>1</th>\n",
       "      <th>2</th>\n",
       "    </tr>\n",
       "  </thead>\n",
       "  <tbody>\n",
       "    <tr>\n",
       "      <th>0</th>\n",
       "      <td>22.796</td>\n",
       "      <td>Acide 4-Phenylbutyrique</td>\n",
       "    </tr>\n",
       "    <tr>\n",
       "      <th>1</th>\n",
       "      <td>24.032</td>\n",
       "      <td>Acide O-OH-Phenylacetiqu</td>\n",
       "    </tr>\n",
       "    <tr>\n",
       "      <th>2</th>\n",
       "      <td>38.812</td>\n",
       "      <td>C17-Heptadecanoique</td>\n",
       "    </tr>\n",
       "    <tr>\n",
       "      <th>3</th>\n",
       "      <td>7.180</td>\n",
       "      <td>Acide Lactique</td>\n",
       "    </tr>\n",
       "    <tr>\n",
       "      <th>4</th>\n",
       "      <td>7.745</td>\n",
       "      <td>Acide Glycolique</td>\n",
       "    </tr>\n",
       "    <tr>\n",
       "      <th>...</th>\n",
       "      <td>...</td>\n",
       "      <td>...</td>\n",
       "    </tr>\n",
       "    <tr>\n",
       "      <th>93</th>\n",
       "      <td>35.929</td>\n",
       "      <td>Hexanoylglycine monoTMS</td>\n",
       "    </tr>\n",
       "    <tr>\n",
       "      <th>94</th>\n",
       "      <td>39.764</td>\n",
       "      <td>No Match</td>\n",
       "    </tr>\n",
       "    <tr>\n",
       "      <th>95</th>\n",
       "      <td>40.502</td>\n",
       "      <td>ACIDE pOH HIPPURIQUE diTMS</td>\n",
       "    </tr>\n",
       "    <tr>\n",
       "      <th>96</th>\n",
       "      <td>42.656</td>\n",
       "      <td>No Match</td>\n",
       "    </tr>\n",
       "    <tr>\n",
       "      <th>97</th>\n",
       "      <td>44.788</td>\n",
       "      <td>No Match</td>\n",
       "    </tr>\n",
       "  </tbody>\n",
       "</table>\n",
       "<p>98 rows × 2 columns</p>\n",
       "</div>"
      ],
      "text/plain": [
       "         1                           2\n",
       "0   22.796     Acide 4-Phenylbutyrique\n",
       "1   24.032    Acide O-OH-Phenylacetiqu\n",
       "2   38.812         C17-Heptadecanoique\n",
       "3    7.180              Acide Lactique\n",
       "4    7.745            Acide Glycolique\n",
       "..     ...                         ...\n",
       "93  35.929     Hexanoylglycine monoTMS\n",
       "94  39.764                    No Match\n",
       "95  40.502  ACIDE pOH HIPPURIQUE diTMS\n",
       "96  42.656                    No Match\n",
       "97  44.788                    No Match\n",
       "\n",
       "[98 rows x 2 columns]"
      ]
     },
     "execution_count": 22,
     "metadata": {},
     "output_type": "execute_result"
    }
   ],
   "source": [
    "df = pd.read_csv(PATH, header=None, skiprows=range(17), usecols=[1,2])\r\n",
    "df"
   ]
  },
  {
   "cell_type": "markdown",
   "metadata": {},
   "source": [
    "On élimine la partie texte au milieu caractérisée par une première ligne nulle et de taille"
   ]
  },
  {
   "cell_type": "code",
   "execution_count": 23,
   "metadata": {},
   "outputs": [
    {
     "data": {
      "text/html": [
       "<div>\n",
       "<style scoped>\n",
       "    .dataframe tbody tr th:only-of-type {\n",
       "        vertical-align: middle;\n",
       "    }\n",
       "\n",
       "    .dataframe tbody tr th {\n",
       "        vertical-align: top;\n",
       "    }\n",
       "\n",
       "    .dataframe thead th {\n",
       "        text-align: right;\n",
       "    }\n",
       "</style>\n",
       "<table border=\"1\" class=\"dataframe\">\n",
       "  <thead>\n",
       "    <tr style=\"text-align: right;\">\n",
       "      <th></th>\n",
       "      <th>1</th>\n",
       "      <th>2</th>\n",
       "    </tr>\n",
       "  </thead>\n",
       "  <tbody>\n",
       "    <tr>\n",
       "      <th>0</th>\n",
       "      <td>22.796</td>\n",
       "      <td>Acide 4-Phenylbutyrique</td>\n",
       "    </tr>\n",
       "    <tr>\n",
       "      <th>1</th>\n",
       "      <td>24.032</td>\n",
       "      <td>Acide O-OH-Phenylacetiqu</td>\n",
       "    </tr>\n",
       "    <tr>\n",
       "      <th>2</th>\n",
       "      <td>38.812</td>\n",
       "      <td>C17-Heptadecanoique</td>\n",
       "    </tr>\n",
       "    <tr>\n",
       "      <th>3</th>\n",
       "      <td>7.180</td>\n",
       "      <td>Acide Lactique</td>\n",
       "    </tr>\n",
       "    <tr>\n",
       "      <th>4</th>\n",
       "      <td>7.745</td>\n",
       "      <td>Acide Glycolique</td>\n",
       "    </tr>\n",
       "    <tr>\n",
       "      <th>...</th>\n",
       "      <td>...</td>\n",
       "      <td>...</td>\n",
       "    </tr>\n",
       "    <tr>\n",
       "      <th>93</th>\n",
       "      <td>35.929</td>\n",
       "      <td>Hexanoylglycine monoTMS</td>\n",
       "    </tr>\n",
       "    <tr>\n",
       "      <th>94</th>\n",
       "      <td>39.764</td>\n",
       "      <td>No Match</td>\n",
       "    </tr>\n",
       "    <tr>\n",
       "      <th>95</th>\n",
       "      <td>40.502</td>\n",
       "      <td>ACIDE pOH HIPPURIQUE diTMS</td>\n",
       "    </tr>\n",
       "    <tr>\n",
       "      <th>96</th>\n",
       "      <td>42.656</td>\n",
       "      <td>No Match</td>\n",
       "    </tr>\n",
       "    <tr>\n",
       "      <th>97</th>\n",
       "      <td>44.788</td>\n",
       "      <td>No Match</td>\n",
       "    </tr>\n",
       "  </tbody>\n",
       "</table>\n",
       "<p>90 rows × 2 columns</p>\n",
       "</div>"
      ],
      "text/plain": [
       "         1                           2\n",
       "0   22.796     Acide 4-Phenylbutyrique\n",
       "1   24.032    Acide O-OH-Phenylacetiqu\n",
       "2   38.812         C17-Heptadecanoique\n",
       "3    7.180              Acide Lactique\n",
       "4    7.745            Acide Glycolique\n",
       "..     ...                         ...\n",
       "93  35.929     Hexanoylglycine monoTMS\n",
       "94  39.764                    No Match\n",
       "95  40.502  ACIDE pOH HIPPURIQUE diTMS\n",
       "96  42.656                    No Match\n",
       "97  44.788                    No Match\n",
       "\n",
       "[90 rows x 2 columns]"
      ]
     },
     "execution_count": 23,
     "metadata": {},
     "output_type": "execute_result"
    }
   ],
   "source": [
    "index_nan = df[df[1].isnull()].index[0]\r\n",
    "df = df.drop(df.index[index_nan-1 : index_nan+7])\r\n",
    "df"
   ]
  },
  {
   "cell_type": "markdown",
   "metadata": {},
   "source": [
    "Pour trouver le temps de rétention une molécule : "
   ]
  },
  {
   "cell_type": "code",
   "execution_count": 24,
   "metadata": {},
   "outputs": [],
   "source": [
    "molecule = \"13C3-Lact\"\r\n",
    "time = df[df[2] == molecule][1].values # liste des temps correspondant\r\n",
    "if (len(time)<1):\r\n",
    "    time = None\r\n",
    "else:\r\n",
    "    time = float(time[0]) # normalement de taille 1 donc on prend le premier\r\n",
    "time"
   ]
  },
  {
   "cell_type": "code",
   "execution_count": 25,
   "metadata": {},
   "outputs": [
    {
     "name": "stdout",
     "output_type": "stream",
     "text": [
      "[None, 22.796, 24.032, 38.812]\n"
     ]
    }
   ],
   "source": [
    "molecules = [\"13C3-Lact\", \"Acide 4-Phenylbutyrique\", \"Acide O-OH-Phenylacetiqu\", \"C17-Heptadecanoique\"] # les pics de référence\r\n",
    "print(tools.detectSpikes(PATH, molecules))"
   ]
  },
  {
   "cell_type": "markdown",
   "metadata": {},
   "source": [
    "Quand on pourra lire toute la base de donnée prendre la moyenne de la détection des pics"
   ]
  }
 ],
 "metadata": {
  "interpreter": {
   "hash": "8c4dcd3a071dd88a141e61cb3846a3ad57c7a576061c6011e309b7dc0280f508"
  },
  "kernelspec": {
   "display_name": "Python 3.9.5 64-bit ('GCMS': conda)",
   "name": "python3"
  },
  "language_info": {
   "codemirror_mode": {
    "name": "ipython",
    "version": 3
   },
   "file_extension": ".py",
   "mimetype": "text/x-python",
   "name": "python",
   "nbconvert_exporter": "python",
   "pygments_lexer": "ipython3",
   "version": "3.9.5"
  },
  "orig_nbformat": 4
 },
 "nbformat": 4,
 "nbformat_minor": 2
}